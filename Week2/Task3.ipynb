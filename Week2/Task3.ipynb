{
 "cells": [
  {
   "cell_type": "markdown",
   "metadata": {},
   "source": [
    "## Введение в машинное обучение: неделя 2"
   ]
  },
  {
   "cell_type": "markdown",
   "metadata": {},
   "source": [
    "### Задание 3: обучение персептрона"
   ]
  },
  {
   "cell_type": "code",
   "execution_count": 24,
   "metadata": {},
   "outputs": [],
   "source": [
    "import pandas as pd\n",
    "\n",
    "train_data = pd.read_csv(\"perceptron-train.csv\", header=None)\n",
    "y_train = train_data[0].values\n",
    "X_train = train_data[[1,2]].values\n",
    "\n",
    "test_data = pd.read_csv(\"perceptron-test.csv\", header=None)\n",
    "y_test = test_data[0].values\n",
    "X_test = test_data[[1,2]].values"
   ]
  },
  {
   "cell_type": "markdown",
   "metadata": {},
   "source": [
    "В данной программе обучается персептрон - простейший линейный классификатор. Задача заключается в оценки важности нормализации признаков для улучшения качества классификации. Как будет показано ниже - нормализация признаков дает ощутимый прирост качества классификации - в данном случае на 19%."
   ]
  },
  {
   "cell_type": "code",
   "execution_count": 25,
   "metadata": {},
   "outputs": [],
   "source": [
    "from sklearn.linear_model import Perceptron\n",
    "from sklearn.metrics import accuracy_score\n",
    "\n",
    "def accuracy(X_train, y_train, X_test, y_test):\n",
    "    clf = Perceptron(random_state=241)\n",
    "    clf.fit(X_train, y_train)\n",
    "    predictions = clf.predict(X_test)\n",
    "    return accuracy_score(y_test, predictions)"
   ]
  },
  {
   "cell_type": "markdown",
   "metadata": {},
   "source": [
    "#### Результаты до применения нормализации"
   ]
  },
  {
   "cell_type": "code",
   "execution_count": 26,
   "metadata": {},
   "outputs": [
    {
     "name": "stdout",
     "output_type": "stream",
     "text": [
      "0.655\n"
     ]
    }
   ],
   "source": [
    "print(accuracy(X_train, y_train, X_test, y_test))"
   ]
  },
  {
   "cell_type": "markdown",
   "metadata": {},
   "source": [
    "#### Результаты после применения нормализации"
   ]
  },
  {
   "cell_type": "code",
   "execution_count": 27,
   "metadata": {},
   "outputs": [
    {
     "name": "stdout",
     "output_type": "stream",
     "text": [
      "0.845\n"
     ]
    }
   ],
   "source": [
    "from sklearn.preprocessing import StandardScaler\n",
    "scaler = StandardScaler()\n",
    "# находим параметры нормализации (среднее и стандартное отклонение)\n",
    "# в тренировочном наборе данных\n",
    "X_train_scaled = scaler.fit_transform(X_train)\n",
    "# применяем полученные на предыдущем шаге параметры для\n",
    "# нормализации тестового набора данных\n",
    "X_test_scaled = scaler.transform(X_test)\n",
    "\n",
    "print(accuracy(X_train_scaled, y_train, X_test_scaled, y_test))"
   ]
  }
 ],
 "metadata": {
  "kernelspec": {
   "display_name": "Python 2",
   "language": "python",
   "name": "python2"
  },
  "language_info": {
   "codemirror_mode": {
    "name": "ipython",
    "version": 2
   },
   "file_extension": ".py",
   "mimetype": "text/x-python",
   "name": "python",
   "nbconvert_exporter": "python",
   "pygments_lexer": "ipython2",
   "version": "2.7.14"
  }
 },
 "nbformat": 4,
 "nbformat_minor": 2
}
