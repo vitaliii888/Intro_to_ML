{
 "cells": [
  {
   "cell_type": "markdown",
   "metadata": {},
   "source": [
    "## Введение в машинное обучение: неделя 2"
   ]
  },
  {
   "cell_type": "markdown",
   "metadata": {},
   "source": [
    "### Задание 2: выбор метрики для предсказания стоимости жилья"
   ]
  },
  {
   "cell_type": "code",
   "execution_count": 26,
   "metadata": {},
   "outputs": [],
   "source": [
    "from sklearn import datasets\n",
    "from sklearn.preprocessing import scale\n",
    "\n",
    "data = datasets.load_boston()\n",
    "y = data['target']\n",
    "X = data['data']\n",
    "\n",
    "# norm the features \n",
    "X_norm = scale(X)"
   ]
  },
  {
   "cell_type": "markdown",
   "metadata": {},
   "source": [
    "Выбираем значение параметра p для метрики Минковского, используемой для вычисления расстояния между объектами. На основе данных расстояний производится предсказание стоимости цены жилья по методу пяти ближайших соседей с помощью метода `KNeighborsRegressor`. Получаемые оценки точности - это усредненные результаты кросс-валидации при случайном разбиении данных на пять равных частей."
   ]
  },
  {
   "cell_type": "code",
   "execution_count": 35,
   "metadata": {},
   "outputs": [],
   "source": [
    "from sklearn.model_selection import KFold\n",
    "from sklearn.neighbors import KNeighborsRegressor\n",
    "from sklearn.model_selection import cross_val_score\n",
    "import numpy as np\n",
    "\n",
    "def find_optimal_metric(X, y):\n",
    "    \n",
    "    # create train and cv sets\n",
    "    kf = KFold(n_splits=5, shuffle=True, random_state=42)\n",
    "\n",
    "    \n",
    "    max_p = 0\n",
    "    max_res = 0\n",
    "    for p in np.linspace(1,10,200):\n",
    "        # generate a k-neighbours regressor\n",
    "        neigh = KNeighborsRegressor(n_neighbors=5, weights='distance', p=p, metric='minkowski')\n",
    "        \n",
    "        # generate vector of errors on cv sets\n",
    "        cv_res = cross_val_score(neigh, X, y, cv=kf)\n",
    "        \n",
    "        # calculate the mean\n",
    "        curr = np.mean(cv_res)\n",
    "        #print(\"p: \" + str(p) + \"\\taccuracy: \" + str(curr))\n",
    "        if(curr>max_res):\n",
    "            max_res = curr\n",
    "            max_p = p\n",
    "\n",
    "    print(\"Maximal accuracy:\")\n",
    "    print(\"p: \" + str(max_p) + \"\\taccuracy: \" + str(max_res))"
   ]
  },
  {
   "cell_type": "code",
   "execution_count": 36,
   "metadata": {},
   "outputs": [
    {
     "name": "stdout",
     "output_type": "stream",
     "text": [
      "Maximal accuracy:\n",
      "p: 1.0\taccuracy: 0.80115592371\n"
     ]
    }
   ],
   "source": [
    "find_optimal_metric(X_norm,y)"
   ]
  },
  {
   "cell_type": "code",
   "execution_count": null,
   "metadata": {
    "collapsed": true
   },
   "outputs": [],
   "source": []
  }
 ],
 "metadata": {
  "kernelspec": {
   "display_name": "Python 2",
   "language": "python",
   "name": "python2"
  },
  "language_info": {
   "codemirror_mode": {
    "name": "ipython",
    "version": 2
   },
   "file_extension": ".py",
   "mimetype": "text/x-python",
   "name": "python",
   "nbconvert_exporter": "python",
   "pygments_lexer": "ipython2",
   "version": "2.7.14"
  }
 },
 "nbformat": 4,
 "nbformat_minor": 2
}
